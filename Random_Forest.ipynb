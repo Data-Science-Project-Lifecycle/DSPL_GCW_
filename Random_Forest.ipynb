{
  "nbformat": 4,
  "nbformat_minor": 0,
  "metadata": {
    "colab": {
      "provenance": [],
      "include_colab_link": true
    },
    "kernelspec": {
      "name": "python3",
      "display_name": "Python 3"
    },
    "language_info": {
      "name": "python"
    }
  },
  "cells": [
    {
      "cell_type": "markdown",
      "metadata": {
        "id": "view-in-github",
        "colab_type": "text"
      },
      "source": [
        "<a href=\"https://colab.research.google.com/github/Data-Science-Project-Lifecycle/DSPL_GCW_/blob/main/Random_Forest.ipynb\" target=\"_parent\"><img src=\"https://colab.research.google.com/assets/colab-badge.svg\" alt=\"Open In Colab\"/></a>"
      ]
    },
    {
      "cell_type": "code",
      "execution_count": 17,
      "metadata": {
        "id": "QEH84wLP-sQz"
      },
      "outputs": [],
      "source": [
        "import pandas as pd\n",
        "import numpy as np\n",
        "from sklearn.model_selection import train_test_split, GridSearchCV\n",
        "from sklearn.tree import DecisionTreeClassifier, DecisionTreeRegressor\n",
        "from sklearn.metrics import classification_report, confusion_matrix, RocCurveDisplay, mean_absolute_error, mean_squared_error, r2_score\n",
        "import matplotlib.pyplot as plt\n",
        "from sklearn import tree\n",
        "from sklearn.ensemble import RandomForestClassifier\n",
        "from sklearn.model_selection import RandomizedSearchCV"
      ]
    },
    {
      "cell_type": "code",
      "source": [
        "df=pd.read_csv('train_cleaned.csv')"
      ],
      "metadata": {
        "id": "r8TTA_S7_EHD"
      },
      "execution_count": 18,
      "outputs": []
    },
    {
      "cell_type": "code",
      "source": [
        "target_col='cluster_catgeory'\n",
        "y=df[target_col]\n",
        "X=df.drop(columns=[target_col])"
      ],
      "metadata": {
        "id": "f1-BVkzm_WRH"
      },
      "execution_count": 19,
      "outputs": []
    },
    {
      "cell_type": "code",
      "source": [
        "# (70% train, 30% test)\n",
        "X_train, X_test, y_train, y_test = train_test_split(X, y, test_size=0.3, random_state=42, stratify=y)"
      ],
      "metadata": {
        "id": "BRo_XUVZ_7Oz"
      },
      "execution_count": 20,
      "outputs": []
    },
    {
      "cell_type": "code",
      "source": [
        "# Train Random Forest Classifier\n",
        "rf = RandomForestClassifier(n_estimators=50, max_depth=5, random_state=42)\n",
        "rf.fit(X_train, y_train)\n",
        "y_pred_rf = rf.predict(X_test)"
      ],
      "metadata": {
        "id": "s-a8650eC3At"
      },
      "execution_count": 21,
      "outputs": []
    },
    {
      "cell_type": "code",
      "source": [
        "# Evaluate Classification Model\n",
        "print(\"Classification Report:\\n\", classification_report(y_test, y_pred_rf))\n",
        "print(\"Confusion Matrix:\\n\", confusion_matrix(y_test, y_pred_rf))"
      ],
      "metadata": {
        "id": "fxFQrF26rz6e",
        "colab": {
          "base_uri": "https://localhost:8080/"
        },
        "outputId": "898e5c29-d2e3-4fb5-f9a9-0a4da8355609"
      },
      "execution_count": 22,
      "outputs": [
        {
          "output_type": "stream",
          "name": "stdout",
          "text": [
            "Classification Report:\n",
            "               precision    recall  f1-score   support\n",
            "\n",
            "         1.0       0.95      0.93      0.94     56688\n",
            "         2.0       0.92      0.92      0.92     46515\n",
            "         3.0       0.78      0.86      0.82     14667\n",
            "         4.0       0.93      0.95      0.94     51728\n",
            "         5.0       0.80      0.70      0.74     11857\n",
            "         6.0       0.93      0.92      0.92     50762\n",
            "\n",
            "    accuracy                           0.92    232217\n",
            "   macro avg       0.88      0.88      0.88    232217\n",
            "weighted avg       0.92      0.92      0.92    232217\n",
            "\n",
            "Confusion Matrix:\n",
            " [[52843     2     2  3839     1     1]\n",
            " [    0 42794     2     2     2  3715]\n",
            " [    1     1 12599     1  2064     1]\n",
            " [ 2536     0     5 49184     3     0]\n",
            " [    1     0  3608     2  8244     2]\n",
            " [    0  3877     4     4     2 46875]]\n"
          ]
        }
      ]
    },
    {
      "cell_type": "code",
      "source": [
        "disp=ConfusionMatrixDisplay(confusion_matrix=rf_cm,display_labels = rf_best.classes_)"
      ],
      "metadata": {
        "id": "bC-mdPZVr6_S"
      },
      "execution_count": null,
      "outputs": []
    },
    {
      "cell_type": "code",
      "source": [
        "# Hyperparameter tuning for Random Forest\n",
        "param_dist = {'n_estimators': [50, 100], 'max_depth': [10, 20, None], 'criterion': ['gini', 'entropy']}\n",
        "rf_rscv = RandomizedSearchCV(RandomForestClassifier(),param_dist,n_iter=10, cv=5, scoring='recall_macro')\n",
        "rf_rscv.fit(X_train, y_train)\n",
        "print(\"Best Parameters:\", rf_rscv.best_params_)"
      ],
      "metadata": {
        "id": "QkKyrkztr4Oe",
        "colab": {
          "base_uri": "https://localhost:8080/"
        },
        "outputId": "75efc6e4-982c-443b-e759-f9c74c28e260"
      },
      "execution_count": 23,
      "outputs": [
        {
          "output_type": "stream",
          "name": "stdout",
          "text": [
            "Best Parameters: {'n_estimators': 100, 'max_depth': None, 'criterion': 'entropy'}\n"
          ]
        }
      ]
    },
    {
      "cell_type": "code",
      "source": [
        "# Train optimized Random Forest Classifier\n",
        "rf_optimal = RandomForestClassifier(**rf_rscv.best_params_)\n",
        "rf_optimal.fit(X_train, y_train)\n",
        "y_pred_rf_optimal = rf_optimal.predict(X_test)\n",
        "print(\"Optimized Classification Report:\\n\", classification_report(y_test, y_pred_rf_optimal))\n"
      ],
      "metadata": {
        "id": "WQli4eeer-3J",
        "colab": {
          "base_uri": "https://localhost:8080/"
        },
        "outputId": "f78cb986-2700-4084-9d8c-b4d0425a2d01"
      },
      "execution_count": 25,
      "outputs": [
        {
          "output_type": "stream",
          "name": "stdout",
          "text": [
            "Optimized Classification Report:\n",
            "               precision    recall  f1-score   support\n",
            "\n",
            "         1.0       1.00      1.00      1.00     56688\n",
            "         2.0       1.00      1.00      1.00     46515\n",
            "         3.0       1.00      1.00      1.00     14667\n",
            "         4.0       1.00      1.00      1.00     51728\n",
            "         5.0       1.00      1.00      1.00     11857\n",
            "         6.0       1.00      1.00      1.00     50762\n",
            "\n",
            "    accuracy                           1.00    232217\n",
            "   macro avg       1.00      1.00      1.00    232217\n",
            "weighted avg       1.00      1.00      1.00    232217\n",
            "\n"
          ]
        }
      ]
    },
    {
      "cell_type": "code",
      "source": [
        "rf_best = rf_rscv.best_estimator_"
      ],
      "metadata": {
        "id": "JI-dPrkYsP3w"
      },
      "execution_count": 26,
      "outputs": []
    },
    {
      "cell_type": "code",
      "source": [
        "print(rf_rscv.best_params_)"
      ],
      "metadata": {
        "colab": {
          "base_uri": "https://localhost:8080/"
        },
        "id": "zmuKQP2vsPsC",
        "outputId": "701f6d47-362f-40aa-cf67-6d443aff87b4"
      },
      "execution_count": 27,
      "outputs": [
        {
          "output_type": "stream",
          "name": "stdout",
          "text": [
            "{'n_estimators': 100, 'max_depth': None, 'criterion': 'entropy'}\n"
          ]
        }
      ]
    },
    {
      "cell_type": "code",
      "source": [
        "#make prediction on the test data\n",
        "y_pred_rf = rf_best.predict(X_test)"
      ],
      "metadata": {
        "id": "2PWJoM-Csj2M"
      },
      "execution_count": 29,
      "outputs": []
    },
    {
      "cell_type": "code",
      "source": [
        "from sklearn.metrics import ConfusionMatrixDisplay"
      ],
      "metadata": {
        "id": "KVXF6V67s2bl"
      },
      "execution_count": 31,
      "outputs": []
    },
    {
      "cell_type": "code",
      "source": [
        "print(\"confusion_matrix for RF\")\n",
        "rf_cm=confusion_matrix(y_test,y_pred_rf)\n",
        "disp=ConfusionMatrixDisplay(confusion_matrix=rf_cm,display_labels = rf_best.classes_)"
      ],
      "metadata": {
        "colab": {
          "base_uri": "https://localhost:8080/"
        },
        "id": "DeBtZtoMsjyw",
        "outputId": "ba6a5909-b1fa-41db-b1e9-1750e841e943"
      },
      "execution_count": 32,
      "outputs": [
        {
          "output_type": "stream",
          "name": "stdout",
          "text": [
            "confusion_matrix for RF\n"
          ]
        }
      ]
    },
    {
      "cell_type": "code",
      "source": [
        "disp.plot()"
      ],
      "metadata": {
        "colab": {
          "base_uri": "https://localhost:8080/",
          "height": 466
        },
        "id": "gi34_rkusjwQ",
        "outputId": "ac8b5130-76ff-416a-bd49-977cc713e5b0"
      },
      "execution_count": 33,
      "outputs": [
        {
          "output_type": "execute_result",
          "data": {
            "text/plain": [
              "<sklearn.metrics._plot.confusion_matrix.ConfusionMatrixDisplay at 0x7f4c0b908610>"
            ]
          },
          "metadata": {},
          "execution_count": 33
        },
        {
          "output_type": "display_data",
          "data": {
            "text/plain": [
              "<Figure size 640x480 with 2 Axes>"
            ],
            "image/png": "[encoded data removed]"
          },
          "metadata": {}
        }
      ]
    },
    {
      "cell_type": "code",
      "source": [
        "from sklearn.metrics import accuracy_score\n",
        "\n",
        "# Train Accuracy\n",
        "train_accuracy = accuracy_score(y_train, rf.predict(X_train))\n",
        "print(f\"Train Accuracy: {train_accuracy:.4f}\")\n",
        "\n",
        "# Test Accuracy\n",
        "test_accuracy = accuracy_score(y_test, rf.predict(X_test))\n",
        "print(f\"Test Accuracy: {test_accuracy:.4f}\")\n"
      ],
      "metadata": {
        "colab": {
          "base_uri": "https://localhost:8080/"
        },
        "id": "AuROCHlVtyEa",
        "outputId": "eca8c814-3e76-43da-90fc-fef226a8c367"
      },
      "execution_count": 34,
      "outputs": [
        {
          "output_type": "stream",
          "name": "stdout",
          "text": [
            "Train Accuracy: 0.9151\n",
            "Test Accuracy: 0.9153\n"
          ]
        }
      ]
    },
    {
      "cell_type": "code",
      "source": [
        "# Feature Importance\n",
        "importances = rf_optimal.feature_importances_\n",
        "feature_names = X.columns\n",
        "feature_importance_df = pd.DataFrame({'Feature': feature_names, 'Importance': importances})\n",
        "feature_importance_df = feature_importance_df.sort_values(by='Importance', ascending=False)\n",
        "print(\"Feature Importance:\\n\", feature_importance_df)"
      ],
      "metadata": {
        "colab": {
          "base_uri": "https://localhost:8080/"
        },
        "id": "wrTbOSKBu-EI",
        "outputId": "59f128cb-278d-4f69-ca13-8c4e8bb31cd1"
      },
      "execution_count": 35,
      "outputs": [
        {
          "output_type": "stream",
          "name": "stdout",
          "text": [
            "Feature Importance:\n",
            "         Feature  Importance\n",
            "3     dry_sales    0.387086\n",
            "2   fresh_sales    0.265069\n",
            "1  luxury_sales    0.204968\n",
            "0   outlet_city    0.142877\n"
          ]
        }
      ]
    },
    {
      "cell_type": "code",
      "source": [
        "# Plot Feature Importance\n",
        "plt.figure(figsize=(12, 6))\n",
        "plt.barh(feature_importance_df['Feature'], feature_importance_df['Importance'], color='skyblue')\n",
        "plt.xlabel('Importance')\n",
        "plt.ylabel('Feature')\n",
        "plt.title('Feature Importance in Random Forest')\n",
        "plt.gca().invert_yaxis()\n",
        "plt.show()"
      ],
      "metadata": {
        "colab": {
          "base_uri": "https://localhost:8080/",
          "height": 348
        },
        "id": "ByK0JN0_vN_y",
        "outputId": "ad84d087-135c-4fac-ef60-3378a2307ca6"
      },
      "execution_count": 36,
      "outputs": [
        {
          "output_type": "display_data",
          "data": {
            "text/plain": [
              "<Figure size 1200x600 with 1 Axes>"
            ],
            "image/png": "[encoded data removed]"
          },
          "metadata": {}
        }
      ]
    },
    {
      "cell_type": "code",
      "source": [
        "from sklearn.model_selection import learning_curve\n",
        "rf = RandomForestClassifier(n_estimators=100, max_depth=10, random_state=42)\n",
        "train_sizes, train_scores, test_scores = learning_curve(\n",
        "    rf, X_train, y_train, cv=5, scoring='accuracy', train_sizes=np.linspace(0.1, 1.0, 10)\n",
        ")"
      ],
      "metadata": {
        "id": "EPbbRT-uvTZt"
      },
      "execution_count": null,
      "outputs": []
    }
  ]
}